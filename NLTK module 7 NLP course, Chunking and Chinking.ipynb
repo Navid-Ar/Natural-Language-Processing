{
 "cells": [
  {
   "cell_type": "code",
   "execution_count": 16,
   "metadata": {},
   "outputs": [],
   "source": [
    "import nltk"
   ]
  },
  {
   "cell_type": "code",
   "execution_count": 17,
   "metadata": {},
   "outputs": [],
   "source": [
    "from textblob import TextBlob"
   ]
  },
  {
   "cell_type": "code",
   "execution_count": 18,
   "metadata": {},
   "outputs": [],
   "source": [
    "myString = \"John found a new coach and a new bed in his new apartment.\""
   ]
  },
  {
   "cell_type": "code",
   "execution_count": 19,
   "metadata": {},
   "outputs": [],
   "source": [
    "output = TextBlob(myString)"
   ]
  },
  {
   "cell_type": "code",
   "execution_count": 20,
   "metadata": {},
   "outputs": [
    {
     "data": {
      "text/plain": [
       "[('John', 'NNP'),\n",
       " ('found', 'VBD'),\n",
       " ('a', 'DT'),\n",
       " ('new', 'JJ'),\n",
       " ('coach', 'NN'),\n",
       " ('and', 'CC'),\n",
       " ('a', 'DT'),\n",
       " ('new', 'JJ'),\n",
       " ('bed', 'NN'),\n",
       " ('in', 'IN'),\n",
       " ('his', 'PRP$'),\n",
       " ('new', 'JJ'),\n",
       " ('apartment', 'NN')]"
      ]
     },
     "execution_count": 20,
     "metadata": {},
     "output_type": "execute_result"
    }
   ],
   "source": [
    "output.tags"
   ]
  },
  {
   "cell_type": "code",
   "execution_count": 21,
   "metadata": {},
   "outputs": [
    {
     "name": "stdout",
     "output_type": "stream",
     "text": [
      "(S\n",
      "  (NP John/NNP)\n",
      "  found/VBD\n",
      "  (NP a/DT new/JJ coach/NN and/CC a/DT new/JJ bed/NN)\n",
      "  in/IN\n",
      "  (NP his/PRP$ new/JJ apartment/NN))\n"
     ]
    }
   ],
   "source": [
    "reg_exp = r\"\"\" NP:\n",
    "    {<.*>+}          # Chunk everything\n",
    "    }<VBD|IN>+{      # Chink sequences of VBD and IN\n",
    "  \"\"\"\n",
    "# reg_exp = \"NP: {<JJ><NN>}\"\n",
    "# reg_exp = \"NP: {<DT>?<JJ>*<NN>}\" \n",
    "rp = nltk.chunk.RegexpParser(reg_exp) \n",
    "output = rp.parse(output.tags) \n",
    "print(output)"
   ]
  },
  {
   "cell_type": "code",
   "execution_count": 22,
   "metadata": {},
   "outputs": [],
   "source": [
    "from nltk import Tree"
   ]
  },
  {
   "cell_type": "code",
   "execution_count": 23,
   "metadata": {},
   "outputs": [
    {
     "name": "stdout",
     "output_type": "stream",
     "text": [
      "[('John', 'NNP')]\n",
      "[('a', 'DT'), ('new', 'JJ'), ('coach', 'NN'), ('and', 'CC'), ('a', 'DT'), ('new', 'JJ'), ('bed', 'NN')]\n",
      "[('his', 'PRP$'), ('new', 'JJ'), ('apartment', 'NN')]\n"
     ]
    }
   ],
   "source": [
    "for tree in output.subtrees():\n",
    "    if tree.label() == \"NP\":\n",
    "        print(tree.leaves())"
   ]
  },
  {
   "cell_type": "code",
   "execution_count": 25,
   "metadata": {},
   "outputs": [],
   "source": [
    "output.draw()"
   ]
  },
  {
   "cell_type": "code",
   "execution_count": null,
   "metadata": {},
   "outputs": [],
   "source": []
  }
 ],
 "metadata": {
  "kernelspec": {
   "display_name": "Python 3",
   "language": "python",
   "name": "python3"
  },
  "language_info": {
   "codemirror_mode": {
    "name": "ipython",
    "version": 3
   },
   "file_extension": ".py",
   "mimetype": "text/x-python",
   "name": "python",
   "nbconvert_exporter": "python",
   "pygments_lexer": "ipython3",
   "version": "3.7.9"
  }
 },
 "nbformat": 4,
 "nbformat_minor": 4
}
