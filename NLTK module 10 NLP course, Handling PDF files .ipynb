{
 "cells": [
  {
   "cell_type": "code",
   "execution_count": 1,
   "metadata": {},
   "outputs": [],
   "source": [
    "import PyPDF2\n",
    "import textract\n",
    "import nltk\n",
    "from nltk import word_tokenize\n",
    "from nltk.corpus import stopwords"
   ]
  },
  {
   "cell_type": "code",
   "execution_count": 10,
   "metadata": {},
   "outputs": [],
   "source": [
    "filename = \"Lorem_ipsum.pdf\""
   ]
  },
  {
   "cell_type": "code",
   "execution_count": 11,
   "metadata": {},
   "outputs": [],
   "source": [
    "pdffileobj = open(filename, \"rb\")"
   ]
  },
  {
   "cell_type": "code",
   "execution_count": 12,
   "metadata": {},
   "outputs": [],
   "source": [
    "PdfReader = PyPDF2.PdfFileReader(pdffileobj)"
   ]
  },
  {
   "cell_type": "code",
   "execution_count": 13,
   "metadata": {},
   "outputs": [],
   "source": [
    "num_pages = PdfReader.numPages"
   ]
  },
  {
   "cell_type": "code",
   "execution_count": 14,
   "metadata": {},
   "outputs": [
    {
     "data": {
      "text/plain": [
       "1"
      ]
     },
     "execution_count": 14,
     "metadata": {},
     "output_type": "execute_result"
    }
   ],
   "source": [
    "num_pages"
   ]
  },
  {
   "cell_type": "code",
   "execution_count": 15,
   "metadata": {},
   "outputs": [],
   "source": []
  },
  {
   "cell_type": "code",
   "execution_count": 16,
   "metadata": {},
   "outputs": [],
   "source": [
    "count = 0\n",
    "text =\"\"\n",
    "while count < num_pages:\n",
    "    pageObj = PdfReader.getPage(count)\n",
    "    count += 1\n",
    "    text += pageObj.extractText()\n",
    "    "
   ]
  },
  {
   "cell_type": "code",
   "execution_count": 17,
   "metadata": {},
   "outputs": [
    {
     "data": {
      "text/plain": [
       "\"Test PDF\\n \\nLorem Ipsum is simply dummy text of the printing and typesetting industry. Lorem Ipsum has been the \\nindustry's standard dummy text ever since the 1500s, when an unknown printer took a galley of type \\nand scrambled it to make a type specimen book. It has sur\\nvived not only five centuries, but also the leap \\ninto electronic typesetting, remaining essentially unchanged. It was popularised in the 1960s with the \\nrelease of Letraset sheets containing Lorem Ipsum passages, and more recently with desktop publishing \\nso\\nftware like Aldus PageMaker including versions of Lorem Ipsum.\\n \\nLorem Ipsum is simply dummy text of the printing and typesetting industry. Lorem Ipsum has been the \\nindustry's standard dummy text ever since the 1500s, when an unknown printer took a galley of \\ntype \\nand scrambled it to make a type specimen book. It has survived not only five centuries, but also the leap \\ninto electronic typesetting, remaining essentially unchanged. It was popularised in the 1960s with the \\nrelease of Letraset sheets containing Lore\\nm Ipsum passages, and more recently with desktop publishing \\nsoftware like Aldus PageMaker including versions of Lorem Ipsum.\\n \\nLorem Ipsum is simply dummy text of the printing and typesetting industry. Lorem Ipsum has been the \\nindustry's standard dummy text e\\nver since the 1500s, when an unknown printer took a galley of type \\nand scrambled it to make a type specimen book. It has survived not only five centuries, but also the leap \\ninto electronic typesetting, remaining essentially unchanged. It was popularised in\\n \\nthe 1960s with the \\nrelease of Letraset sheets containing Lorem Ipsum passages, and more recently with desktop publishing \\nsoftware like Aldus PageMaker including versions of Lorem Ipsum.\\n \\nLorem Ipsum is simply dummy text of the printing and typesetting indus\\ntry. Lorem Ipsum has been the \\nindustry's standard dummy text ever since the 1500s, when an unknown printer took a galley of type \\nand scrambled it to make a type specimen book. It has survived not only five centuries, but also the leap \\ninto electronic types\\netting, remaining essentially unchanged. It was popularised in the 1960s with the \\nrelease of Letraset sheets containing Lorem Ipsum passages, and more recently with desktop publishing \\nsoftware like Aldus PageMaker including versions of Lorem Ipsum.\\n \\n\""
      ]
     },
     "execution_count": 17,
     "metadata": {},
     "output_type": "execute_result"
    }
   ],
   "source": [
    "print(text)"
   ]
  },
  {
   "cell_type": "code",
   "execution_count": 63,
   "metadata": {},
   "outputs": [],
   "source": [
    "pdf_document_writer = PyPDF2.PdfFileWriter()"
   ]
  },
  {
   "cell_type": "code",
   "execution_count": 67,
   "metadata": {},
   "outputs": [],
   "source": [
    "page_one = PdfReader.getPage(0)"
   ]
  },
  {
   "cell_type": "code",
   "execution_count": 68,
   "metadata": {},
   "outputs": [],
   "source": [
    "pdf_document_writer.addPage(page_one)"
   ]
  },
  {
   "cell_type": "code",
   "execution_count": 69,
   "metadata": {},
   "outputs": [],
   "source": [
    "pdf_output = open(\"new_file.pdf\", \"wb\")"
   ]
  },
  {
   "cell_type": "code",
   "execution_count": 71,
   "metadata": {},
   "outputs": [],
   "source": [
    "pdf_document_writer.write(pdf_output)"
   ]
  },
  {
   "cell_type": "code",
   "execution_count": null,
   "metadata": {},
   "outputs": [],
   "source": []
  }
 ],
 "metadata": {
  "kernelspec": {
   "display_name": "Python 3",
   "language": "python",
   "name": "python3"
  },
  "language_info": {
   "codemirror_mode": {
    "name": "ipython",
    "version": 3
   },
   "file_extension": ".py",
   "mimetype": "text/x-python",
   "name": "python",
   "nbconvert_exporter": "python",
   "pygments_lexer": "ipython3",
   "version": "3.7.9"
  }
 },
 "nbformat": 4,
 "nbformat_minor": 4
}
